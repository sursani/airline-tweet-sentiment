{
  "nbformat": 4,
  "nbformat_minor": 0,
  "metadata": {
    "colab": {
      "provenance": [],
      "include_colab_link": true
    },
    "kernelspec": {
      "name": "python3",
      "display_name": "Python 3"
    },
    "language_info": {
      "name": "python"
    }
  },
  "cells": [
    {
      "cell_type": "markdown",
      "metadata": {
        "id": "view-in-github",
        "colab_type": "text"
      },
      "source": [
        "<a href=\"https://colab.research.google.com/github/sursani/airline-tweet-sentiment/blob/main/airline_tweet_sentiment.ipynb\" target=\"_parent\"><img src=\"https://colab.research.google.com/assets/colab-badge.svg\" alt=\"Open In Colab\"/></a>"
      ]
    },
    {
      "cell_type": "markdown",
      "source": [
        "## Twitter Sentiment Analysis\n",
        "\n",
        "**Problem statement:** Airline industry had a very hard time post covid to sustain their business due to a long hault. It is very important for them to make sure they exceed customer expectations. The best way to evaluate performance is customer feedback. You are given a dataset of airline tweets from real customers.\n",
        "\n",
        "A sentiment analysis job about the problems of each major U.S. airline. Twitter data was scraped from February of 2015 and contributors were asked to first classify positive, negative, and neutral tweets, followed by categorizing negative reasons (such as \"late flight\" or \"rude service\").\n",
        "\n",
        "You will use the text column and sentiment column to create a classification model that classifies a given tweet into one of the 3 classes - positive, negative, neutral.\n",
        "\n",
        "**Understanding the Dataset:**\n",
        "\n",
        "Dataset contains many columns out of which below are most important ones-\n",
        "1. airline_sentiment - defines the sentiment of the tweet\n",
        "2. negative_reason - reason for the negative feedback (if negative)\n",
        "3. Text - tweet text content\n",
        "4. tweet_location - location from which tweet was posted\n",
        "\n",
        "You can use more columns in your model training if you want.\n",
        "\n",
        "\n",
        "**Steps to perform**\n",
        "1. Load dataset - https://www.kaggle.com/datasets/crowdflower/twitter-airline-sentiment\n",
        "2. Clean, preprocess data and EDA\n",
        "3. Vectorise columns that contain text\n",
        "4. Run Classification model to classify - positive, negative or neutral\n",
        "5. Evaluate model\n",
        "\n"
      ],
      "metadata": {
        "id": "p7PQLPozD75X"
      }
    },
    {
      "cell_type": "markdown",
      "source": [
        "## Steps to Download kaggle datasets using Kaggle Public API\n",
        "\n",
        "1. Go to your account, Scroll to API section and Click Expire API Token to remove previous tokens\n",
        "\n",
        "2. Click on Create New API Token - It will download kaggle.json file on your machine."
      ],
      "metadata": {
        "id": "MFBrE45m0S2Y"
      }
    },
    {
      "cell_type": "code",
      "source": [
        "!pip install -q kaggle\n",
        "\n",
        "!pip install spacy-lookups-data"
      ],
      "metadata": {
        "colab": {
          "base_uri": "https://localhost:8080/"
        },
        "id": "6T1Uq9Eg0Xl3",
        "outputId": "7072935e-2d2f-4d60-9589-21a053106e60"
      },
      "execution_count": 17,
      "outputs": [
        {
          "output_type": "stream",
          "name": "stdout",
          "text": [
            "Requirement already satisfied: spacy-lookups-data in /usr/local/lib/python3.10/dist-packages (1.0.3)\n",
            "Requirement already satisfied: setuptools in /usr/local/lib/python3.10/dist-packages (from spacy-lookups-data) (67.7.2)\n"
          ]
        }
      ]
    },
    {
      "cell_type": "code",
      "source": [
        "from google.colab import files\n",
        "files.upload()"
      ],
      "metadata": {
        "colab": {
          "base_uri": "https://localhost:8080/",
          "height": 92
        },
        "id": "V1_jb8i50a7R",
        "outputId": "05a2b5bb-e20a-43a7-a5b5-3ee2f02435eb"
      },
      "execution_count": 2,
      "outputs": [
        {
          "output_type": "display_data",
          "data": {
            "text/plain": [
              "<IPython.core.display.HTML object>"
            ],
            "text/html": [
              "\n",
              "     <input type=\"file\" id=\"files-73275862-02ec-46cf-8d2a-bb27f6967ecf\" name=\"files[]\" multiple disabled\n",
              "        style=\"border:none\" />\n",
              "     <output id=\"result-73275862-02ec-46cf-8d2a-bb27f6967ecf\">\n",
              "      Upload widget is only available when the cell has been executed in the\n",
              "      current browser session. Please rerun this cell to enable.\n",
              "      </output>\n",
              "      <script>// Copyright 2017 Google LLC\n",
              "//\n",
              "// Licensed under the Apache License, Version 2.0 (the \"License\");\n",
              "// you may not use this file except in compliance with the License.\n",
              "// You may obtain a copy of the License at\n",
              "//\n",
              "//      http://www.apache.org/licenses/LICENSE-2.0\n",
              "//\n",
              "// Unless required by applicable law or agreed to in writing, software\n",
              "// distributed under the License is distributed on an \"AS IS\" BASIS,\n",
              "// WITHOUT WARRANTIES OR CONDITIONS OF ANY KIND, either express or implied.\n",
              "// See the License for the specific language governing permissions and\n",
              "// limitations under the License.\n",
              "\n",
              "/**\n",
              " * @fileoverview Helpers for google.colab Python module.\n",
              " */\n",
              "(function(scope) {\n",
              "function span(text, styleAttributes = {}) {\n",
              "  const element = document.createElement('span');\n",
              "  element.textContent = text;\n",
              "  for (const key of Object.keys(styleAttributes)) {\n",
              "    element.style[key] = styleAttributes[key];\n",
              "  }\n",
              "  return element;\n",
              "}\n",
              "\n",
              "// Max number of bytes which will be uploaded at a time.\n",
              "const MAX_PAYLOAD_SIZE = 100 * 1024;\n",
              "\n",
              "function _uploadFiles(inputId, outputId) {\n",
              "  const steps = uploadFilesStep(inputId, outputId);\n",
              "  const outputElement = document.getElementById(outputId);\n",
              "  // Cache steps on the outputElement to make it available for the next call\n",
              "  // to uploadFilesContinue from Python.\n",
              "  outputElement.steps = steps;\n",
              "\n",
              "  return _uploadFilesContinue(outputId);\n",
              "}\n",
              "\n",
              "// This is roughly an async generator (not supported in the browser yet),\n",
              "// where there are multiple asynchronous steps and the Python side is going\n",
              "// to poll for completion of each step.\n",
              "// This uses a Promise to block the python side on completion of each step,\n",
              "// then passes the result of the previous step as the input to the next step.\n",
              "function _uploadFilesContinue(outputId) {\n",
              "  const outputElement = document.getElementById(outputId);\n",
              "  const steps = outputElement.steps;\n",
              "\n",
              "  const next = steps.next(outputElement.lastPromiseValue);\n",
              "  return Promise.resolve(next.value.promise).then((value) => {\n",
              "    // Cache the last promise value to make it available to the next\n",
              "    // step of the generator.\n",
              "    outputElement.lastPromiseValue = value;\n",
              "    return next.value.response;\n",
              "  });\n",
              "}\n",
              "\n",
              "/**\n",
              " * Generator function which is called between each async step of the upload\n",
              " * process.\n",
              " * @param {string} inputId Element ID of the input file picker element.\n",
              " * @param {string} outputId Element ID of the output display.\n",
              " * @return {!Iterable<!Object>} Iterable of next steps.\n",
              " */\n",
              "function* uploadFilesStep(inputId, outputId) {\n",
              "  const inputElement = document.getElementById(inputId);\n",
              "  inputElement.disabled = false;\n",
              "\n",
              "  const outputElement = document.getElementById(outputId);\n",
              "  outputElement.innerHTML = '';\n",
              "\n",
              "  const pickedPromise = new Promise((resolve) => {\n",
              "    inputElement.addEventListener('change', (e) => {\n",
              "      resolve(e.target.files);\n",
              "    });\n",
              "  });\n",
              "\n",
              "  const cancel = document.createElement('button');\n",
              "  inputElement.parentElement.appendChild(cancel);\n",
              "  cancel.textContent = 'Cancel upload';\n",
              "  const cancelPromise = new Promise((resolve) => {\n",
              "    cancel.onclick = () => {\n",
              "      resolve(null);\n",
              "    };\n",
              "  });\n",
              "\n",
              "  // Wait for the user to pick the files.\n",
              "  const files = yield {\n",
              "    promise: Promise.race([pickedPromise, cancelPromise]),\n",
              "    response: {\n",
              "      action: 'starting',\n",
              "    }\n",
              "  };\n",
              "\n",
              "  cancel.remove();\n",
              "\n",
              "  // Disable the input element since further picks are not allowed.\n",
              "  inputElement.disabled = true;\n",
              "\n",
              "  if (!files) {\n",
              "    return {\n",
              "      response: {\n",
              "        action: 'complete',\n",
              "      }\n",
              "    };\n",
              "  }\n",
              "\n",
              "  for (const file of files) {\n",
              "    const li = document.createElement('li');\n",
              "    li.append(span(file.name, {fontWeight: 'bold'}));\n",
              "    li.append(span(\n",
              "        `(${file.type || 'n/a'}) - ${file.size} bytes, ` +\n",
              "        `last modified: ${\n",
              "            file.lastModifiedDate ? file.lastModifiedDate.toLocaleDateString() :\n",
              "                                    'n/a'} - `));\n",
              "    const percent = span('0% done');\n",
              "    li.appendChild(percent);\n",
              "\n",
              "    outputElement.appendChild(li);\n",
              "\n",
              "    const fileDataPromise = new Promise((resolve) => {\n",
              "      const reader = new FileReader();\n",
              "      reader.onload = (e) => {\n",
              "        resolve(e.target.result);\n",
              "      };\n",
              "      reader.readAsArrayBuffer(file);\n",
              "    });\n",
              "    // Wait for the data to be ready.\n",
              "    let fileData = yield {\n",
              "      promise: fileDataPromise,\n",
              "      response: {\n",
              "        action: 'continue',\n",
              "      }\n",
              "    };\n",
              "\n",
              "    // Use a chunked sending to avoid message size limits. See b/62115660.\n",
              "    let position = 0;\n",
              "    do {\n",
              "      const length = Math.min(fileData.byteLength - position, MAX_PAYLOAD_SIZE);\n",
              "      const chunk = new Uint8Array(fileData, position, length);\n",
              "      position += length;\n",
              "\n",
              "      const base64 = btoa(String.fromCharCode.apply(null, chunk));\n",
              "      yield {\n",
              "        response: {\n",
              "          action: 'append',\n",
              "          file: file.name,\n",
              "          data: base64,\n",
              "        },\n",
              "      };\n",
              "\n",
              "      let percentDone = fileData.byteLength === 0 ?\n",
              "          100 :\n",
              "          Math.round((position / fileData.byteLength) * 100);\n",
              "      percent.textContent = `${percentDone}% done`;\n",
              "\n",
              "    } while (position < fileData.byteLength);\n",
              "  }\n",
              "\n",
              "  // All done.\n",
              "  yield {\n",
              "    response: {\n",
              "      action: 'complete',\n",
              "    }\n",
              "  };\n",
              "}\n",
              "\n",
              "scope.google = scope.google || {};\n",
              "scope.google.colab = scope.google.colab || {};\n",
              "scope.google.colab._files = {\n",
              "  _uploadFiles,\n",
              "  _uploadFilesContinue,\n",
              "};\n",
              "})(self);\n",
              "</script> "
            ]
          },
          "metadata": {}
        },
        {
          "output_type": "stream",
          "name": "stdout",
          "text": [
            "Saving kaggle.json to kaggle.json\n"
          ]
        },
        {
          "output_type": "execute_result",
          "data": {
            "text/plain": [
              "{'kaggle.json': b'{\"username\":\"shaneursani\",\"key\":\"9b899cb1f165cdd8f16121e2a8181871\"}'}"
            ]
          },
          "metadata": {},
          "execution_count": 2
        }
      ]
    },
    {
      "cell_type": "code",
      "source": [
        "! mkdir ~/.kaggle\n",
        "\n",
        "! cp kaggle.json ~/.kaggle/"
      ],
      "metadata": {
        "id": "KFMVz1HV0kMX"
      },
      "execution_count": 3,
      "outputs": []
    },
    {
      "cell_type": "code",
      "source": [
        "! chmod 600 ~/.kaggle/kaggle.json"
      ],
      "metadata": {
        "id": "b4kcnN7f0oww"
      },
      "execution_count": 4,
      "outputs": []
    },
    {
      "cell_type": "code",
      "source": [
        "#! kaggle competitions download -c 'name-of-competition'\n",
        "\n",
        "!kaggle datasets download -d crowdflower/twitter-airline-sentiment\n",
        "!unzip twitter-airline-sentiment.zip"
      ],
      "metadata": {
        "colab": {
          "base_uri": "https://localhost:8080/"
        },
        "id": "7T0cduXZ0rGf",
        "outputId": "690e3e57-5bae-4bde-d473-f2ca72b7335c"
      },
      "execution_count": 5,
      "outputs": [
        {
          "output_type": "stream",
          "name": "stdout",
          "text": [
            "Downloading twitter-airline-sentiment.zip to /content\n",
            "\r  0% 0.00/2.55M [00:00<?, ?B/s]\n",
            "\r100% 2.55M/2.55M [00:00<00:00, 205MB/s]\n",
            "Archive:  twitter-airline-sentiment.zip\n",
            "  inflating: Tweets.csv              \n",
            "  inflating: database.sqlite         \n"
          ]
        }
      ]
    },
    {
      "cell_type": "code",
      "source": [
        "\n",
        "import spacy\n",
        "import spacy.lookups\n",
        "\n",
        "# load the English model in spaCy\n",
        "nlp = spacy.load('en_core_web_sm')\n",
        "\n",
        "# Load the lexeme_norm table\n",
        "#lexeme_norm = spacy.lookups.load_lookups(\"lexeme_norm\", \"en\")\n"
      ],
      "metadata": {
        "id": "U9SRUwYo0ux6"
      },
      "execution_count": 6,
      "outputs": []
    },
    {
      "cell_type": "markdown",
      "source": [
        "Read tweets.csv and process each negative tweet in the nlp pipeline"
      ],
      "metadata": {
        "id": "Ne4gZVjrlVJf"
      }
    },
    {
      "cell_type": "code",
      "source": [
        "import pandas as pd\n",
        "import random\n",
        "from spacy.training import Example\n",
        "from sklearn.model_selection import train_test_split\n",
        "\n",
        "\n",
        "if 'textcat' not in nlp.pipe_names:\n",
        "    nlp.add_pipe('textcat', last=True)\n",
        "    textcat = nlp.get_pipe('textcat')\n",
        "else:\n",
        "    textcat = nlp.get_pipe('textcat')\n",
        "\n",
        "# Add labels to text classifier\n",
        "textcat.add_label('POSITIVE')\n",
        "textcat.add_label('NEGATIVE')\n",
        "textcat.add_label('NEUTRAL')\n",
        "\n",
        "# Load the tweets from the CSV file\n",
        "df = pd.read_csv('Tweets.csv')\n",
        "\n",
        "# 'text' column contains the tweet text and 'airline_sentiment' column contains the sentiment\n",
        "tweets = df['text'].tolist()\n",
        "airline_sentiments = df['airline_sentiment'].tolist()\n",
        "\n",
        "# Prepare training data in the format (text, label)\n",
        "data = list(zip(tweets, [{'cats': {'POSITIVE': airline_sentiment == 'positive', 'NEGATIVE': airline_sentiment == 'negative', 'NEUTRAL': airline_sentiment == 'neutral'}} for airline_sentiment in airline_sentiments]))\n",
        "\n",
        "# Split the data into a training set and a test set\n",
        "train_data, test_data = train_test_split(data, test_size=0.2, random_state=42)\n",
        "\n",
        "# Train the model\n",
        "nlp.begin_training()\n",
        "\n",
        "# Train the model\n",
        "for itn in range(1): # Number of training iterations\n",
        "    random.shuffle(train_data)\n",
        "    losses = {}\n",
        "    for text, annotations in train_data:\n",
        "        doc = nlp.make_doc(text)\n",
        "        example = Example.from_dict(doc, annotations)\n",
        "        nlp.update([example], losses=losses)\n",
        "    print(losses)\n",
        "\n",
        "\n",
        "# Save model\n",
        "nlp.to_disk(\"/model\")\n",
        "\n"
      ],
      "metadata": {
        "id": "Axe_EXU3i6zr",
        "colab": {
          "base_uri": "https://localhost:8080/"
        },
        "outputId": "cfbd4a19-05c2-47f0-b0e8-7477bc13aad3"
      },
      "execution_count": 9,
      "outputs": [
        {
          "output_type": "stream",
          "name": "stdout",
          "text": [
            "{'tok2vec': 0.0, 'tagger': 0.0, 'parser': 0.0, 'ner': 0.0, 'textcat': 1630.6910126088308}\n"
          ]
        }
      ]
    },
    {
      "cell_type": "code",
      "source": [
        "# Use the model's tokenizer to tokenize the text (list of string)\n",
        "test_docs = [nlp.tokenizer(text) for text, annotation in test_data]\n",
        "\n",
        "#print(type(test_docs))\n",
        "\n",
        "#for item in test_docs[:3]:\n",
        "#    print(item)\n",
        "\n",
        "# Use textcat to get the scores for each doc\n",
        "textcat = nlp.get_pipe('textcat')\n",
        "scores, _ = textcat.predict(test_docs)\n",
        "\n",
        "print(scores)"
      ],
      "metadata": {
        "colab": {
          "base_uri": "https://localhost:8080/",
          "height": 240
        },
        "id": "QDih6g0K57A0",
        "outputId": "2a511fe3-a056-4272-d003-bf14e62fb9bc"
      },
      "execution_count": 28,
      "outputs": [
        {
          "output_type": "error",
          "ename": "ValueError",
          "evalue": "ignored",
          "traceback": [
            "\u001b[0;31m---------------------------------------------------------------------------\u001b[0m",
            "\u001b[0;31mValueError\u001b[0m                                Traceback (most recent call last)",
            "\u001b[0;32m<ipython-input-28-a3f6fc201f79>\u001b[0m in \u001b[0;36m<cell line: 11>\u001b[0;34m()\u001b[0m\n\u001b[1;32m      9\u001b[0m \u001b[0;31m# Use textcat to get the scores for each doc\u001b[0m\u001b[0;34m\u001b[0m\u001b[0;34m\u001b[0m\u001b[0m\n\u001b[1;32m     10\u001b[0m \u001b[0mtextcat\u001b[0m \u001b[0;34m=\u001b[0m \u001b[0mnlp\u001b[0m\u001b[0;34m.\u001b[0m\u001b[0mget_pipe\u001b[0m\u001b[0;34m(\u001b[0m\u001b[0;34m'textcat'\u001b[0m\u001b[0;34m)\u001b[0m\u001b[0;34m\u001b[0m\u001b[0;34m\u001b[0m\u001b[0m\n\u001b[0;32m---> 11\u001b[0;31m \u001b[0mscores\u001b[0m\u001b[0;34m,\u001b[0m \u001b[0m_\u001b[0m \u001b[0;34m=\u001b[0m \u001b[0mtextcat\u001b[0m\u001b[0;34m.\u001b[0m\u001b[0mpredict\u001b[0m\u001b[0;34m(\u001b[0m\u001b[0mtest_docs\u001b[0m\u001b[0;34m)\u001b[0m\u001b[0;34m\u001b[0m\u001b[0;34m\u001b[0m\u001b[0m\n\u001b[0m\u001b[1;32m     12\u001b[0m \u001b[0;34m\u001b[0m\u001b[0m\n\u001b[1;32m     13\u001b[0m \u001b[0mprint\u001b[0m\u001b[0;34m(\u001b[0m\u001b[0mscores\u001b[0m\u001b[0;34m)\u001b[0m\u001b[0;34m\u001b[0m\u001b[0;34m\u001b[0m\u001b[0m\n",
            "\u001b[0;31mValueError\u001b[0m: too many values to unpack (expected 2)"
          ]
        }
      ]
    },
    {
      "cell_type": "code",
      "source": [
        "print(test_data[:10])\n"
      ],
      "metadata": {
        "colab": {
          "base_uri": "https://localhost:8080/"
        },
        "id": "i4jqFgl97Q0a",
        "outputId": "af505c67-9620-4b2b-e1d6-41525bcc263d"
      },
      "execution_count": 14,
      "outputs": [
        {
          "output_type": "stream",
          "name": "stdout",
          "text": [
            "[(\"@SouthwestAir you're my early frontrunner for best airline! #oscars2016\", {'cats': {'POSITIVE': True, 'NEGATIVE': False, 'NEUTRAL': False}}), ('@USAirways how is it that my flt to EWR was Cancelled Flightled yet flts to NYC from USAirways are still flying?', {'cats': {'POSITIVE': False, 'NEGATIVE': True, 'NEUTRAL': False}}), ('@JetBlue what is going on with your BDL to DCA flights yesterday and today?! Why is every single one getting delayed?', {'cats': {'POSITIVE': False, 'NEGATIVE': True, 'NEUTRAL': False}}), ('@JetBlue do they have to depart from Washington, D.C.??', {'cats': {'POSITIVE': False, 'NEGATIVE': False, 'NEUTRAL': True}}), ('@JetBlue I can probably find some of them. Are the ticket #s on there?', {'cats': {'POSITIVE': False, 'NEGATIVE': True, 'NEUTRAL': False}}), ('@united still waiting to hear back. My wallet was stolen from one of your planes so would appreciate a resolution here', {'cats': {'POSITIVE': False, 'NEGATIVE': True, 'NEUTRAL': False}}), (\"@united Yes my flight was rebooked. I'm just losing trust in you if I want to get anywhere on time.\", {'cats': {'POSITIVE': False, 'NEGATIVE': True, 'NEUTRAL': False}}), ('@JetBlue Thank you ! What about Paris ? Could we arrange something from there ?', {'cats': {'POSITIVE': False, 'NEGATIVE': False, 'NEUTRAL': True}}), ('@united not 100% sure, however my ticket included one checked bag, therefore this charge was extra and completely unanticipated.', {'cats': {'POSITIVE': False, 'NEGATIVE': True, 'NEUTRAL': False}}), ('@usairways great crew for flight 504 PHX to YVR tonight! Friendly, efficient. Awesome job.', {'cats': {'POSITIVE': True, 'NEGATIVE': False, 'NEUTRAL': False}})]\n"
          ]
        }
      ]
    },
    {
      "cell_type": "code",
      "source": [],
      "metadata": {
        "id": "U9BibQdDzR9y"
      },
      "execution_count": null,
      "outputs": []
    }
  ]
}